{
  "nbformat": 4,
  "nbformat_minor": 0,
  "metadata": {
    "colab": {
      "provenance": [],
      "include_colab_link": true
    },
    "kernelspec": {
      "name": "python3",
      "display_name": "Python 3"
    },
    "language_info": {
      "name": "python"
    }
  },
  "cells": [
    {
      "cell_type": "markdown",
      "metadata": {
        "id": "view-in-github",
        "colab_type": "text"
      },
      "source": [
        "<a href=\"https://colab.research.google.com/github/Alwaz12/PIAIC-project-python.ipynb-colab/blob/main/day2b_fewshot_and_parsers_.ipynb\" target=\"_parent\"><img src=\"https://colab.research.google.com/assets/colab-badge.svg\" alt=\"Open In Colab\"/></a>"
      ]
    },
    {
      "cell_type": "code",
      "execution_count": null,
      "metadata": {
        "id": "HfrPYpFerUjP",
        "colab": {
          "base_uri": "https://localhost:8080/"
        },
        "outputId": "03d000f1-efe2-4e55-8755-19c8ad2f5687"
      },
      "outputs": [
        {
          "output_type": "stream",
          "name": "stdout",
          "text": [
            "\u001b[?25l   \u001b[90m━━━━━━━━━━━━━━━━━━━━━━━━━━━━━━━━━━━━━━━━\u001b[0m \u001b[32m0.0/1.0 MB\u001b[0m \u001b[31m?\u001b[0m eta \u001b[36m-:--:--\u001b[0m\r\u001b[2K   \u001b[91m━━━━━━━━━━━━━━━━━━━━━━━━━\u001b[0m\u001b[91m╸\u001b[0m\u001b[90m━━━━━━━━━━━━━━\u001b[0m \u001b[32m0.7/1.0 MB\u001b[0m \u001b[31m21.2 MB/s\u001b[0m eta \u001b[36m0:00:01\u001b[0m\r\u001b[2K   \u001b[90m━━━━━━━━━━━━━━━━━━━━━━━━━━━━━━━━━━━━━━━━\u001b[0m \u001b[32m1.0/1.0 MB\u001b[0m \u001b[31m18.9 MB/s\u001b[0m eta \u001b[36m0:00:00\u001b[0m\n",
            "\u001b[?25h\u001b[?25l   \u001b[90m━━━━━━━━━━━━━━━━━━━━━━━━━━━━━━━━━━━━━━━━\u001b[0m \u001b[32m0.0/411.6 kB\u001b[0m \u001b[31m?\u001b[0m eta \u001b[36m-:--:--\u001b[0m\r\u001b[2K   \u001b[90m━━━━━━━━━━━━━━━━━━━━━━━━━━━━━━━━━━━━━━━━\u001b[0m \u001b[32m411.6/411.6 kB\u001b[0m \u001b[31m29.6 MB/s\u001b[0m eta \u001b[36m0:00:00\u001b[0m\n",
            "\u001b[?25h"
          ]
        }
      ],
      "source": [
        "!pip install -q -U langchain"
      ]
    },
    {
      "cell_type": "code",
      "source": [
        "!pip install -q -U langchain-google-genai"
      ],
      "metadata": {
        "id": "16dhxk_Rvfii",
        "colab": {
          "base_uri": "https://localhost:8080/"
        },
        "outputId": "6223e5e5-823d-4db0-8a8b-425f1a0830e8"
      },
      "execution_count": null,
      "outputs": [
        {
          "output_type": "stream",
          "name": "stdout",
          "text": [
            "\u001b[?25l   \u001b[90m━━━━━━━━━━━━━━━━━━━━━━━━━━━━━━━━━━━━━━━━\u001b[0m \u001b[32m0.0/41.3 kB\u001b[0m \u001b[31m?\u001b[0m eta \u001b[36m-:--:--\u001b[0m\r\u001b[2K   \u001b[90m━━━━━━━━━━━━━━━━━━━━━━━━━━━━━━━━━━━━━━━━\u001b[0m \u001b[32m41.3/41.3 kB\u001b[0m \u001b[31m2.3 MB/s\u001b[0m eta \u001b[36m0:00:00\u001b[0m\n",
            "\u001b[?25h"
          ]
        }
      ]
    },
    {
      "cell_type": "code",
      "source": [
        "from google.colab import userdata\n",
        "\n",
        "GOOGLE_API_KEY = userdata.get('GOOGLE_API_KEY')"
      ],
      "metadata": {
        "id": "p1iFkV9fvlBQ"
      },
      "execution_count": null,
      "outputs": []
    },
    {
      "cell_type": "code",
      "source": [
        "import pathlib\n",
        "import textwrap\n",
        "\n",
        "import google.generativeai as genai\n",
        "\n",
        "from IPython.display import display\n",
        "from IPython.display import Markdown\n",
        "\n",
        "\n",
        "def to_markdown(text):\n",
        "    text = text.replace(\"•\", \"  *\")\n",
        "    return Markdown(textwrap.indent(text, \"> \", predicate=lambda _: True))"
      ],
      "metadata": {
        "id": "sv-8Rfny5pm3"
      },
      "execution_count": null,
      "outputs": []
    },
    {
      "cell_type": "code",
      "source": [
        "from langchain_google_genai import ChatGoogleGenerativeAI\n",
        "\n",
        "llm:ChatGoogleGenerativeAI = ChatGoogleGenerativeAI(\n",
        "    temprature = 0.2,\n",
        "    model = \"gemini-1.5-flash\",\n",
        "    api_key=GOOGLE_API_KEY\n",
        ")\n",
        "\n",
        "reposne = llm.invoke(\"What is the name of the Best Batsman India?\")\n",
        "to_markdown(reposne.content)"
      ],
      "metadata": {
        "colab": {
          "base_uri": "https://localhost:8080/",
          "height": 161
        },
        "id": "xV7qNr_D4qk0",
        "outputId": "d791bcfd-46d1-41a2-82ff-7b76dd67bd01"
      },
      "execution_count": null,
      "outputs": [
        {
          "output_type": "execute_result",
          "data": {
            "text/plain": [
              "<IPython.core.display.Markdown object>"
            ],
            "text/markdown": "> There's no single definitive answer to the question of \"the best batsman India\" has ever produced.  It's a matter of opinion and depends on the criteria used (e.g., highest run scorer, most impactful player, best average, etc.).  Many greats are contenders, including:\n> \n> * **Sachin Tendulkar:** Widely considered the greatest, holding numerous batting records.\n> * **Virat Kohli:** Currently active, and a prolific run-scorer with an exceptional average.\n> * **Sunil Gavaskar:** A legendary opener who dominated in his era.\n> \n> Ultimately, choosing the \"best\" is subjective and depends on individual preferences.\n"
          },
          "metadata": {},
          "execution_count": 7
        }
      ]
    },
    {
      "cell_type": "markdown",
      "source": [
        "# **1____________________FewShot Template____________________________________________**"
      ],
      "metadata": {
        "id": "uQti_PmPv5dy"
      }
    },
    {
      "cell_type": "markdown",
      "source": [
        "# **Key Difference**\n",
        "**FewShotPromptTemplate**: Gives examples to teach the AI how to perform the task.      \n",
        "**ChatPromptTemplate**: Structures a chat or conversation with roles (System, Human, Assistant).\n",
        "\n",
        "# **When to Use Each**\n",
        "**FewShotPromptTemplate**: Use when the task is complex, and examples are needed to show how to do it.\n",
        "**ChatPromptTemplate**: Use for chat-based tasks or when talking to the AI in a structured way.\n",
        "\n",
        "\n",
        "\n",
        "**FewShotPromptTemplate**: Teach the AI with examples.                                                              \n",
        "**ChatPromptTemplate**: Set up a chat with roles like System and Human."
      ],
      "metadata": {
        "id": "2QcdqMqQ1k6X"
      }
    },
    {
      "cell_type": "markdown",
      "source": [
        "# **Example 1**"
      ],
      "metadata": {
        "id": "VsntDatAZPWd"
      }
    },
    {
      "cell_type": "code",
      "source": [
        "from langchain.prompts import PromptTemplate, FewShotPromptTemplate\n",
        "\n",
        "# Define examples with the correct keys matching the template\n",
        "examples = [\n",
        "    {\"question\": \"What is 3 + 5?\", \"answer\": \"3 + 5 = 8.\"},\n",
        "    {\"question\": \"What is 7 * 6?\", \"answer\": \"7 * 6 = 42.\"}\n",
        "]\n",
        "\n",
        "# Define a template for the output format (this will be included in the prompt generation)\n",
        "example_template = PromptTemplate(\n",
        "    input_variables=[\"question\", \"answer\"],\n",
        "    template=\"Question: {question} \\nAnswer: {answer}\"\n",
        ")\n",
        "\n",
        "# Define the FewShotPromptTemplate using the examples\n",
        "few_shot_template = FewShotPromptTemplate(\n",
        "    example_prompt=example_template,  # Use the correct example_prompt parameter\n",
        "    examples=examples,\n",
        "    suffix=\"Question: {question}\\nAnswer:\",\n",
        ")\n",
        "# Format a new prompt with a new question\n",
        "formatted_prompt = few_shot_template.format(question=\"What is 9 - 4?\")\n",
        "\n",
        "# Print the formatted prompt\n",
        "print(formatted_prompt)\n",
        "\n",
        "\n",
        "response = llm.invoke(formatted_prompt)\n",
        "\n",
        "# Assuming the response contains the answer, convert it to markdown or display it\n",
        "to_markdown(response.content)\n"
      ],
      "metadata": {
        "colab": {
          "base_uri": "https://localhost:8080/",
          "height": 201
        },
        "id": "xH1tgt-2v2y2",
        "outputId": "c4025058-ec68-4c56-c6f9-2f9b9b920261"
      },
      "execution_count": null,
      "outputs": [
        {
          "output_type": "stream",
          "name": "stdout",
          "text": [
            "Question: What is 3 + 5? \n",
            "Answer: 3 + 5 = 8.\n",
            "\n",
            "Question: What is 7 * 6? \n",
            "Answer: 7 * 6 = 42.\n",
            "\n",
            "Question: What is 9 - 4?\n",
            "Answer:\n"
          ]
        },
        {
          "output_type": "execute_result",
          "data": {
            "text/plain": [
              "<IPython.core.display.Markdown object>"
            ],
            "text/markdown": "> 9 - 4 = 5\n"
          },
          "metadata": {},
          "execution_count": 8
        }
      ]
    },
    {
      "cell_type": "markdown",
      "source": [
        "# **Example 2**"
      ],
      "metadata": {
        "id": "rs4avr9_ZWV6"
      }
    },
    {
      "cell_type": "markdown",
      "source": [
        "incorrect syntex"
      ],
      "metadata": {
        "id": "YcBHZllNes9Y"
      }
    },
    {
      "cell_type": "code",
      "source": [
        "from langchain.prompts import PromptTemplate, FewShotPromptTemplate\n",
        "\n",
        "examples = [\n",
        "    {\"question\": \"What is a dog?\", \"answer\": \"A dog is a domestic animal that is often kept as a pet.\"},\n",
        "    {\"question\": \"What is a cat?\", \"answer\": \"A cat is a small, domesticated animal known for its independence and playfulness.\"}\n",
        "]\n",
        "\n",
        "templates = PromptTemplate(\n",
        "    template= \"Question: {question}\\nAnswer: {answer}\",\n",
        "    input_variables = [\"question\", \"answer\"]\n",
        ")\n",
        "\n",
        "few_shot_templates = FewShotPromptTemplate(\n",
        "    example_prompt = templates,\n",
        "    examples = examples,\n",
        "    suffix = \"Question /nAnswer:\",\n",
        "    input_variables = [\"question\"]\n",
        ")\n",
        "\n",
        "formated_prompt = few_shot_templates.format(question = \"What is a dog?\")\n",
        "\n",
        "response = llm.invoke( formated_prompt)\n",
        "\n",
        "to_markdown(response.content)\n"
      ],
      "metadata": {
        "id": "eqJF26V67pxg",
        "colab": {
          "base_uri": "https://localhost:8080/",
          "height": 62
        },
        "outputId": "66f8a0ec-f016-454e-8018-b025f15a390d"
      },
      "execution_count": null,
      "outputs": [
        {
          "output_type": "execute_result",
          "data": {
            "text/plain": [
              "<IPython.core.display.Markdown object>"
            ],
            "text/markdown": "> Question: What is a bird?\n> Answer: A bird is a warm-blooded vertebrate animal characterized by feathers, wings, and the laying of hard-shelled eggs.\n"
          },
          "metadata": {},
          "execution_count": 9
        }
      ]
    },
    {
      "cell_type": "markdown",
      "source": [
        "# **Example 2 correct syntex**"
      ],
      "metadata": {
        "id": "oA-Mg0u8e5GS"
      }
    },
    {
      "cell_type": "code",
      "source": [
        "from langchain.prompts import PromptTemplate, FewShotPromptTemplate\n",
        "\n",
        "# Define examples with clear answers\n",
        "examples = [\n",
        "    {\"question\": \"What is a dog?\", \"answer\": \"A dog is a domestic animal that is often kept as a pet.\"},\n",
        "    {\"question\": \"What is a cat?\", \"answer\": \"A cat is a small, domesticated animal known for its independence and playfulness.\"}\n",
        "]\n",
        "\n",
        "# Define a template for question-answer pairs\n",
        "templates = PromptTemplate(\n",
        "    template=\"Question: {question}\\nAnswer: {answer}\",\n",
        "    input_variables=[\"question\", \"answer\"]\n",
        ")\n",
        "\n",
        "# Define FewShotPromptTemplate\n",
        "few_shot_templates = FewShotPromptTemplate(\n",
        "    example_prompt=templates,  # Correct usage of example_prompt\n",
        "    examples=examples,\n",
        "    suffix=\"Question: {question}\\nAnswer:\",  # More clear instruction for the model\n",
        "    input_variables=[\"question\"]  # Specify question as the input variable\n",
        ")\n",
        "\n",
        "# Format the prompt with the new question\n",
        "formated_prompt = few_shot_templates.format(question=\"What is a peregrine falcon?\")\n",
        "\n",
        "# Call the model\n",
        "response = llm.invoke(formated_prompt)\n",
        "\n",
        "# Display the response\n",
        "to_markdown(response.content)\n"
      ],
      "metadata": {
        "colab": {
          "base_uri": "https://localhost:8080/",
          "height": 62
        },
        "id": "k6oZvWd8eySr",
        "outputId": "6b432310-8335-47be-860e-772685bd3ccc"
      },
      "execution_count": null,
      "outputs": [
        {
          "output_type": "execute_result",
          "data": {
            "text/plain": [
              "<IPython.core.display.Markdown object>"
            ],
            "text/markdown": "> A peregrine falcon is a large, powerful bird of prey known for its incredible speed in hunting.\n"
          },
          "metadata": {},
          "execution_count": 10
        }
      ]
    },
    {
      "cell_type": "markdown",
      "source": [
        "# **Why this 1 Sentense is correct and another one is incorrect**\n",
        "\n",
        "The second example is incorrect because the suffix uses \"Question /nAnswer:\" instead of the correct newline character \"\\n\", causing the format to be incorrect and the model to misinterpret the structure."
      ],
      "metadata": {
        "id": "ElGjwBXEhhSt"
      }
    },
    {
      "cell_type": "code",
      "source": [],
      "metadata": {
        "id": "qrxLPc95oNEd"
      },
      "execution_count": null,
      "outputs": []
    },
    {
      "cell_type": "markdown",
      "source": [
        "# **Parsers in Langchain**\n",
        "\n",
        "**DateTimeOutPutParser**"
      ],
      "metadata": {
        "id": "ApCtL_XqoOo8"
      }
    },
    {
      "cell_type": "markdown",
      "source": [
        "**1st**"
      ],
      "metadata": {
        "id": "j1Z7OhhKuVdY"
      }
    },
    {
      "cell_type": "code",
      "source": [
        "\n",
        "from langchain.output_parsers import DatetimeOutputParser\n",
        "from langchain.prompts import PromptTemplate, ChatPromptTemplate, HumanMessagePromptTemplate\n",
        "\n",
        "date_Time_Parser = DatetimeOutputParser()\n",
        "\n",
        "human_template = \"{request} /n {format_instructions}\"\n",
        "\n",
        "chat_prompt = ChatPromptTemplate.from_messages([\n",
        "    HumanMessagePromptTemplate.from_template(human_template)\n",
        "])\n",
        "\n",
        "formatted_messages = chat_prompt.format_messages(\n",
        "    request=\"What was the date When india became independent\",\n",
        "    format_instructions=date_Time_Parser.get_format_instructions()\n",
        ")\n",
        "\n",
        "llm_response=llm.invoke(formatted_messages)\n",
        "\n",
        "print(llm_response.content)\n",
        "print(\"date Time Parser\", date_Time_Parser.parse(llm_response.content))"
      ],
      "metadata": {
        "colab": {
          "base_uri": "https://localhost:8080/"
        },
        "id": "bNLIksRjoOCZ",
        "outputId": "5ddd58c5-5f70-4c3b-c375-358949c43d7f"
      },
      "execution_count": null,
      "outputs": [
        {
          "output_type": "stream",
          "name": "stdout",
          "text": [
            "1947-08-15T00:00:00.000000Z\n",
            "\n",
            "date Time Parser 1947-08-15 00:00:00\n"
          ]
        }
      ]
    },
    {
      "cell_type": "markdown",
      "source": [
        "**2nd**"
      ],
      "metadata": {
        "id": "wADMBAQMua15"
      }
    },
    {
      "cell_type": "code",
      "source": [
        "from langchain.prompts import PromptTemplate, ChatPromptTemplate, HumanMessagePromptTemplate\n",
        "from langchain.output_parsers import DatetimeOutputParser\n",
        "\n",
        "human_template = \"{user_request} /n {llm_instruction}\"\n",
        "\n",
        "prompt_chat = ChatPromptTemplate.from_messages([\n",
        "    HumanMessagePromptTemplate.from_template(human_template)\n",
        "])\n",
        "\n",
        "formatted_messages = prompt_chat.format_messages(\n",
        "    user_request=\"tell me something about pakistan indepedence day\",\n",
        "    llm_instruction=\"Provide a brief summary\"\n",
        ")\n",
        "\n",
        "llm_reponse = llm.invoke(formatted_messages)\n",
        "to_markdown(llm_reponse.content)\n"
      ],
      "metadata": {
        "id": "ZZA55IKluTyg",
        "colab": {
          "base_uri": "https://localhost:8080/",
          "height": 114
        },
        "outputId": "cfa30202-55e2-4586-ae46-1300e8194739"
      },
      "execution_count": null,
      "outputs": [
        {
          "output_type": "execute_result",
          "data": {
            "text/plain": [
              "<IPython.core.display.Markdown object>"
            ],
            "text/markdown": "> Pakistan's Independence Day, celebrated annually on August 14th, commemorates the nation's independence from British rule in 1947.  The day marks the end of the British Raj and the creation of Pakistan as a separate, independent Muslim-majority state.  The event was part of the Partition of India, a complex and often violent process that resulted in the division of British India into India and Pakistan.  Independence Day is a national holiday featuring parades, flag hoisting ceremonies, and celebratory events across the country.\n"
          },
          "metadata": {},
          "execution_count": 12
        }
      ]
    },
    {
      "cell_type": "markdown",
      "source": [
        "# **Pyndatic OutPut Parser**\n",
        "\n",
        "**1st**"
      ],
      "metadata": {
        "id": "sGGVxT4t37iE"
      }
    },
    {
      "cell_type": "code",
      "source": [
        "from langchain.prompts import PromptTemplate, ChatPromptTemplate, HumanMessagePromptTemplate\n",
        "from langchain.output_parsers import DatetimeOutputParser,PydanticOutputParser\n",
        "from pydantic import BaseModel,Field\n",
        "\n",
        "class Cricketer(BaseModel):\n",
        "  name: str = Field(description=\"Name os the cricketer\")\n",
        "  records: str = Field(description=\"Records of the cricketer\")\n",
        "\n",
        "parser = PydanticOutputParser(pydantic_object=Cricketer)\n",
        "\n",
        "human_template = \"{user_request} /n {user_instruction}\"\n",
        "\n",
        "prompt_chat = ChatPromptTemplate.from_messages([\n",
        "    HumanMessagePromptTemplate.from_template(human_template)\n",
        "])\n",
        "\n",
        "formatted_chat_prompt = prompt_chat.format_messages(\n",
        "    user_request=\"Tell me about Cricketer\",\n",
        "    user_instruction=parser.get_format_instructions()\n",
        ")\n",
        "\n",
        "llm_response = llm.invoke(formatted_chat_prompt)\n",
        "to_markdown(llm_response.content)\n"
      ],
      "metadata": {
        "colab": {
          "base_uri": "https://localhost:8080/",
          "height": 134
        },
        "id": "lSm8SWnkvSX2",
        "outputId": "dd0bc074-98ac-4d44-fe3b-48a9991fb06d"
      },
      "execution_count": null,
      "outputs": [
        {
          "output_type": "execute_result",
          "data": {
            "text/plain": [
              "<IPython.core.display.Markdown object>"
            ],
            "text/markdown": "> ```json\n> {\n>   \"name\": \"Sachin Tendulkar\",\n>   \"records\": \"Considered one of the greatest batsmen of all time, Sachin Tendulkar holds numerous records in cricket, including the most runs scored in both Test and ODI cricket.  He also holds the record for the most centuries scored in both formats.\"\n> }\n> ```\n"
          },
          "metadata": {},
          "execution_count": 13
        }
      ]
    },
    {
      "cell_type": "markdown",
      "source": [
        "**2nd** in List Formate"
      ],
      "metadata": {
        "id": "4c061I-C4Hi5"
      }
    },
    {
      "cell_type": "code",
      "source": [
        "from langchain.prompts import PromptTemplate, ChatPromptTemplate, HumanMessagePromptTemplate\n",
        "from langchain.output_parsers import DatetimeOutputParser,PydanticOutputParser\n",
        "from pydantic import BaseModel,Field\n",
        "\n",
        "class Cricketer(BaseModel):\n",
        "  name: str = Field(description=\"Name of the cricketer\")\n",
        "  records: str = Field(description=\"Records of the cricketer\")\n",
        "\n",
        "parser = PydanticOutputParser(pydantic_object=Cricketer)\n",
        "\n",
        "human_template = \"{user_request} /n Please provide the response in list formate about Sarfaraz Ahmed.\"\n",
        "\n",
        "prompt_chat = ChatPromptTemplate.from_messages([\n",
        "    HumanMessagePromptTemplate.from_template(human_template)\n",
        "])\n",
        "\n",
        "formatted_chat_prompt = prompt_chat.format_messages(\n",
        "    user_request=\"Tell me about Cricketer\",\n",
        "    user_instruction=parser.get_format_instructions()\n",
        ")\n",
        "\n",
        "llm_response = llm.invoke(formatted_chat_prompt)\n",
        "# print(llm_response.content)\n",
        "to_markdown(llm_response.content)\n"
      ],
      "metadata": {
        "colab": {
          "base_uri": "https://localhost:8080/",
          "height": 358
        },
        "id": "-UGrINtz4Gwe",
        "outputId": "ab5cb4c8-c296-455d-ad1c-eb3da41a7928"
      },
      "execution_count": null,
      "outputs": [
        {
          "output_type": "execute_result",
          "data": {
            "text/plain": [
              "<IPython.core.display.Markdown object>"
            ],
            "text/markdown": "> Sarfaraz Ahmed:\n> \n> * **Full Name:** Sarfaraz Ahmed\n> * **Born:** 25 December 1987 (age 35)\n> * **Nationality:** Pakistani\n> * **Major Teams:**  Pakistan national cricket team, Sindh, Quetta Gladiators, Karachi Kings\n> * **Batting Style:** Right-handed\n> * **Bowling Style:** Right-arm leg break\n> * **Role:** Wicket-keeper batsman\n> * **International Debut:**\n>     * Test: 2010\n>     * ODI: 2007\n>     * T20I: 2007\n> * **Captaincy:**  Captained the Pakistan national cricket team in all three formats.  Noteworthy period as captain was from 2017-2019.\n> * **Strengths:**  Excellent wicket-keeper, capable middle-order batsman, strong leadership qualities (although his captaincy faced criticism).\n> * **Achievements:** Led Pakistan to Champions Trophy victory in 2017.\n> * **Known for:**  His aggressive batting style, sharp wicket-keeping, and (controversially at times) his captaincy.\n> * **Current Status:**  Continues to play domestic and franchise cricket.  His international career has seen fluctuations in selection.\n"
          },
          "metadata": {},
          "execution_count": 14
        }
      ]
    },
    {
      "cell_type": "markdown",
      "source": [
        "**3rd** in JSON Formate"
      ],
      "metadata": {
        "id": "fExgI43T4zBr"
      }
    },
    {
      "cell_type": "code",
      "source": [
        "from langchain.prompts import PromptTemplate, ChatPromptTemplate, HumanMessagePromptTemplate\n",
        "from langchain.output_parsers import DatetimeOutputParser,PydanticOutputParser\n",
        "from pydantic import BaseModel,Field\n",
        "\n",
        "class Cricketer(BaseModel):\n",
        "  name: str = Field(description=\"Name of the cricketer\")\n",
        "  records: str = Field(description=\"Records of the cricketer\")\n",
        "\n",
        "parser = PydanticOutputParser(pydantic_object=Cricketer)\n",
        "\n",
        "human_template = \"{user_request} /n Please provide the response in JSON formate about Sarfaraz Ahmed.\"\n",
        "\n",
        "prompt_chat = ChatPromptTemplate.from_messages([\n",
        "    HumanMessagePromptTemplate.from_template(human_template)\n",
        "])\n",
        "\n",
        "formatted_chat_prompt = prompt_chat.format_messages(\n",
        "    user_request=\"Tell me about Cricketer\",\n",
        "    user_instruction=parser.get_format_instructions()\n",
        ")\n",
        "\n",
        "llm_response = llm.invoke(formatted_chat_prompt)\n",
        "to_markdown(llm_response.content)\n"
      ],
      "metadata": {
        "colab": {
          "base_uri": "https://localhost:8080/",
          "height": 948
        },
        "id": "jTxQMpTp4yGC",
        "outputId": "22bef470-c473-496c-c95b-d3e34a5069ea"
      },
      "execution_count": null,
      "outputs": [
        {
          "output_type": "execute_result",
          "data": {
            "text/plain": [
              "<IPython.core.display.Markdown object>"
            ],
            "text/markdown": "> ```json\n> {\n>   \"name\": \"Sarfaraz Ahmed\",\n>   \"nationality\": \"Pakistani\",\n>   \"role\": \"Wicket-keeper batsman\",\n>   \"born\": \"December 22, 1987\",\n>   \"battingStyle\": \"Right-hand bat\",\n>   \"bowlingStyle\": \"Right-arm leg break\",\n>   \"teams\": [\n>     \"Sindh\",\n>     \"Quetta Gladiators\",\n>     \"Pakistan\"\n>   ],\n>   \"careerHighlights\": [\n>     {\n>       \"title\": \"Captaincy\",\n>       \"details\": \"Successfully led Pakistan in various formats, notably the 2017 Champions Trophy victory.\"\n>     },\n>     {\n>       \"title\": \"Wicket-keeping Prowess\",\n>       \"details\": \"Known for his sharp and agile wicket-keeping skills, often making difficult catches and stumpings.\"\n>     },\n>     {\n>       \"title\": \"Aggressive Batsmanship\",\n>       \"details\": \"A capable middle-order batsman known for his aggressive and attacking style of play.\"\n>     },\n>     {\n>       \"title\": \"ODI Career\",\n>       \"details\": \"Significant contributions in ODI cricket, including crucial innings and match-winning performances.\"\n>     },\n>     {\n>       \"title\": \"Test Career\",\n>       \"details\": \"Has played test matches for Pakistan, but with varying degrees of success.\"\n>     },\n>     {\n>       \"title\": \"T20 Career\",\n>       \"details\": \"A key player in Pakistan's T20 side, known for his explosive batting in the shorter format.\"\n>     }\n>   ],\n>   \"significantAchievements\": [\n>     \"2017 Champions Trophy Winner (Captain)\",\n>     \"Numerous match-winning performances across various formats\"\n>   ],\n>   \"knownFor\": [\n>     \"Leadership\",\n>     \"Wicket-keeping\",\n>     \"Aggressive batting\",\n>     \"Match-winning ability\"\n>   ],\n>   \"controversies\":[\n>     \"Experienced periods of fluctuating form and faced criticism at different points in his career.\"\n>   ]\n> }\n> ```\n"
          },
          "metadata": {},
          "execution_count": 15
        }
      ]
    },
    {
      "cell_type": "markdown",
      "source": [
        "## **Comma Seprated List Output Parser**"
      ],
      "metadata": {
        "id": "ZA8uSv7Z9_ch"
      }
    },
    {
      "cell_type": "markdown",
      "source": [
        "**1st**"
      ],
      "metadata": {
        "id": "A3QV2pGR-JZ_"
      }
    },
    {
      "cell_type": "code",
      "source": [
        "from langchain.prompts import PromptTemplate, ChatPromptTemplate, HumanMessagePromptTemplate\n",
        "from langchain.output_parsers import CommaSeparatedListOutputParser\n",
        "\n",
        "parser = CommaSeparatedListOutputParser()\n",
        "\n",
        "human_templates = \"{user_request} /n {formate_instructons}\"\n",
        "\n",
        "chat_prompts = ChatPromptTemplate.from_messages([\n",
        "    HumanMessagePromptTemplate.from_template(human_templates)\n",
        "])\n",
        "\n",
        "formatted_chats = chat_prompts.format_messages(\n",
        "    user_request=\"Tell me about Best Picnic Places in paksitan\",\n",
        "    formate_instructons=parser.get_format_instructions()\n",
        ")\n",
        "\n",
        "llm_response = llm.invoke(formatted_chats)\n",
        "to_markdown(llm_response.content)\n"
      ],
      "metadata": {
        "colab": {
          "base_uri": "https://localhost:8080/",
          "height": 80
        },
        "id": "Rspx8KWj9-hR",
        "outputId": "e5360483-6cd5-4f4a-9302-5dd0c86b47d3"
      },
      "execution_count": null,
      "outputs": [
        {
          "output_type": "execute_result",
          "data": {
            "text/plain": [
              "<IPython.core.display.Markdown object>"
            ],
            "text/markdown": "> Frere Hill Gardens,Karachi,Lawrence Gardens,Lahore,Jinnah Garden,Rawalpindi,Shakarparian Park,Islamabad,Lake View Park,Faisalabad,Astola Island,Bela,Kund Malir Beach,Gwadar,Neela Sand Beach,Ormara,Ranikot Fort,Thatta\n"
          },
          "metadata": {},
          "execution_count": 16
        }
      ]
    }
  ]
}